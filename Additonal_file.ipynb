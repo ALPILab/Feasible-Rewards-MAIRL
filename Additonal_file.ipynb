{
 "cells": [
  {
   "cell_type": "markdown",
   "metadata": {},
   "source": [
    "# Experiments and Notation Clarification"
   ]
  },
  {
   "cell_type": "markdown",
   "metadata": {},
   "source": [
    "(A): $\\sup_{\\hat{R} \\in \\mathcal{R}_{\\hat{\\mathcal{G}} \\cup \\hat{\\pi}^{\\text{Nash}}}} \\inf_{R \\in \\mathcal{R}_{\\mathcal{G} \\cup \\pi^{\\text{Nash}}}} \\mathcal{E}(\\hat{\\pi})$,\n",
    "$\\hat{\\pi} \\in \\Pi_{\\text{Nash}}(\\hat{R}) := \\{\\pi: \\forall s \\in \\mathcal{S}, i \\in [n] \\, V_i^{\\pi_i, \\pi_{-i}}(s;\\hat{R}) \\geq V_i^{\\pi'_i, \\pi_{-i}}(s;\\hat{R}) \\forall \\pi' \\in \\Pi\\}$\n"
   ]
  },
  {
   "cell_type": "markdown",
   "metadata": {},
   "source": [
    "(B): $\\mathcal{R}_{\\mathcal{G} \\cup \\pi^{\\text{Nash}}}^{\\mathrm{feas}} = \\left\\{R \\in \\mathcal{R} \\mid \\forall i \\in [n], \\forall s \\in \\mathcal{S}, \\forall \\pi_i \\in \\Pi_i: V^{\\pi_i^{\\text{Nash}},\\pi_{-i}^{\\text{Nash}} }_{\\mathcal{G} \\cup R}(s) > V^{\\pi_i,\\pi_{-i}^{\\text{Nash}} }_{\\mathcal{G} \\cup R}(s)\\right\\}.$"
   ]
  },
  {
   "cell_type": "markdown",
   "metadata": {},
   "source": [
    "## New Equilibria\n",
    "\n",
    "![New Equilibria](new_equilibria.png)\n",
    "\n",
    "## Exploitability New Equilibria\n",
    "\n",
    "![Exploitability New Equilibria](Exploitability_new_equilibria.png)\n",
    "\n",
    "## Correlation Nash\n",
    "\n",
    "![Correlation Nash](Correlation_Nash.png)\n",
    "\n",
    "## Correlation QRE\n",
    "\n",
    "![Correlation QRE](correlation_QRE.png)"
   ]
  },
  {
   "cell_type": "markdown",
   "metadata": {},
   "source": [
    "\n",
    "\n",
    "<p align=\"center\">\n",
    "    <img src=\"new_equilibria.png\" alt=\"New Equilibria\" width=\"45%\"/>\n",
    "    <img src=\"Exploitability_new_equilibria.png\" alt=\"Exploitability New Equilibria\" width=\"45%\"/>\n",
    "</p>\n",
    "\n",
    "\n"
   ]
  },
  {
   "cell_type": "markdown",
   "metadata": {},
   "source": [
    "\n",
    "<p align=\"center\">\n",
    "    <img src=\"Correlation_Nash.png\" alt=\"Correlation Nash\" width=\"45%\"/>\n",
    "    <img src=\"correlation_QRE.png\" alt=\"Correlation QRE\" width=\"45%\"/>\n",
    "</p>\n"
   ]
  }
 ],
 "metadata": {
  "language_info": {
   "name": "python"
  }
 },
 "nbformat": 4,
 "nbformat_minor": 2
}
