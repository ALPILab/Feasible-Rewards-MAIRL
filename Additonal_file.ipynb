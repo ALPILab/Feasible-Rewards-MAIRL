{
 "cells": [
  {
   "cell_type": "markdown",
   "metadata": {},
   "source": [
    "# Experiments and Notation Clarification"
   ]
  },
  {
   "cell_type": "markdown",
   "metadata": {},
   "source": [
    "(A): $\\sup_{\\hat{R} \\in \\mathcal{R}_{\\hat{\\mathcal{G}} \\cup \\hat{\\pi}^{\\text{Nash}}}} \\inf_{R \\in \\mathcal{R}_{\\mathcal{G} \\cup \\pi^{\\text{Nash}}}} \\mathcal{E}(\\hat{\\pi})$,\n",
    "$\\hat{\\pi} \\in \\Pi_{\\text{Nash}}(\\hat{R}) := \\{\\pi: \\forall s \\in \\mathcal{S}, i \\in [n] \\, V_i^{\\pi_i, \\pi_{-i}}(s;\\hat{R}) \\geq V_i^{\\pi'_i, \\pi_{-i}}(s;\\hat{R}) \\forall \\pi' \\in \\Pi\\}$\n"
   ]
  },
  {
   "cell_type": "markdown",
   "metadata": {},
   "source": [
    "(B): $\\mathcal{R}_{\\mathcal{G} \\cup \\pi^{\\text{Nash}}}^{\\mathrm{feas}} = \\left\\{R \\in \\mathcal{R} \\mid \\forall i \\in [n], \\forall s \\in \\mathcal{S}, \\forall \\pi_i \\in \\Pi_i: V^{\\pi_i^{\\text{Nash}},\\pi_{-i}^{\\text{Nash}} }_{\\mathcal{G} \\cup R}(s) > V^{\\pi_i,\\pi_{-i}^{\\text{Nash}} }_{\\mathcal{G} \\cup R}(s)\\right\\}.$"
   ]
  },
  {
   "cell_type": "markdown",
   "metadata": {},
   "source": [
    "<p align=\"center\">\n",
    "    <td><img src=\"./new_equilibria.png\" width=\"600\"/></td>\n",
    "    <td><img src=\"./Exploitability_new_equilibria.png\" width=\"600\"/></td>\n",
    "  </tr>\n",
    "<p>\n"
   ]
  },
  {
   "cell_type": "markdown",
   "metadata": {},
   "source": [
    "<p align=\"center\">\n",
    "    <img src=\"./Correlation_Nash.png\" alt=\"Correlation Nash\" width=\"600\"/>\n",
    "    <img src=\"./correlation_QRE.png\" alt=\"Correlation QRE\" width=\"600\"/>\n",
    "</p>\n"
   ]
  },
  {
   "cell_type": "markdown",
   "metadata": {},
   "source": []
  }
 ],
 "metadata": {
  "language_info": {
   "name": "python"
  }
 },
 "nbformat": 4,
 "nbformat_minor": 2
}
